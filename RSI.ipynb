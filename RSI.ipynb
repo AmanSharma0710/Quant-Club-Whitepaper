{
 "cells": [
  {
   "cell_type": "code",
   "execution_count": null,
   "metadata": {},
   "outputs": [],
   "source": [
    "# Making the necessary imports\n",
    "import backtrader as bt\n",
    "import datetime\n",
    "import matplotlib\n",
    "import math\n",
    "import talib\n",
    "import numpy as np"
   ]
  },
  {
   "cell_type": "code",
   "execution_count": null,
   "metadata": {},
   "outputs": [],
   "source": [
    "# Create a Stratey\n",
    "class RsiSignalStrategy(bt.Strategy):\n",
    "    # The parameters which are passed to the RSI indicator called from backtrader\n",
    "    params = dict(\n",
    "\t\trsi_periods=14, rsi_upper=70, rsi_lower=30, rsi_mid=50\n",
    "\t)\n",
    "\n",
    "    def __init__(self):\n",
    "\n",
    "        # add RSI indicator\n",
    "        self.rsi = bt.indicators.RSI(period=self.p.rsi_periods, upperband=self.p.rsi_upper, lowerband=self.p.rsi_lower)\n",
    "        talib.RSI(np.array(self.data))\n",
    "\n",
    "    def next(self):\n",
    "        if(self.rsi<self.params.rsi_lower):\n",
    "            self.buy(size=100)\n",
    "        \n",
    "        if(self.rsi>self.params.rsi_mid):\n",
    "            if(self.position.size>0):\n",
    "                self.close()\n",
    "        \n",
    "        if(self.rsi>self.params.rsi_upper):\n",
    "            self.sell(size=100)\n",
    "            \n",
    "        if(self.rsi<self.params.rsi_mid):\n",
    "            if(self.position.size<0):\n",
    "                self.close()"
   ]
  },
  {
   "cell_type": "code",
   "execution_count": null,
   "metadata": {},
   "outputs": [],
   "source": [
    "# Calling the cerebro engine to backtest the strategy\n",
    "cerebro = bt.Cerebro()\n",
    "starting_cash = 100000.0\n",
    "cerebro.broker.setcash(starting_cash)\n",
    "print('Starting Portfolio Value: %.2f' % cerebro.broker.getvalue())\n",
    "\n",
    "data = bt.feeds.YahooFinanceCSVData(\n",
    "    #Getting the data for crypto to test the strategy\n",
    "        dataname='1.csv',\n",
    "        fromdate=datetime.datetime(2001, 1, 1),\n",
    "        todate=datetime.datetime(2013, 12, 31),\n",
    "        reverse=False)\n",
    "\n",
    "cerebro.adddata(data)\n",
    "cerebro.addstrategy(RsiSignalStrategy)\n"
   ]
  },
  {
   "cell_type": "code",
   "execution_count": null,
   "metadata": {},
   "outputs": [],
   "source": [
    "cerebro.run()\n",
    "print('Final Portfolio Value: %.2f' % cerebro.broker.getvalue())"
   ]
  },
  {
   "cell_type": "code",
   "execution_count": null,
   "metadata": {},
   "outputs": [],
   "source": [
    "cerebro.plot()"
   ]
  }
 ],
 "metadata": {
  "interpreter": {
   "hash": "b3ba2566441a7c06988d0923437866b63cedc61552a5af99d1f4fb67d367b25f"
  },
  "kernelspec": {
   "display_name": "Python 3.8.8 ('base')",
   "language": "python",
   "name": "python3"
  },
  "language_info": {
   "name": "python",
   "version": "3.8.8"
  },
  "orig_nbformat": 4
 },
 "nbformat": 4,
 "nbformat_minor": 2
}
