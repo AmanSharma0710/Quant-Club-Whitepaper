{
 "cells": [
  {
   "cell_type": "markdown",
   "metadata": {},
   "source": [
    "Implementation of moving averages trading strategy \n",
    "-> Initiate trade when 10 day moving average crosses above 30 day moving average \n",
    "-> Close trade when 10 day moving average crosses below 30 day moving average"
   ]
  },
  {
   "cell_type": "code",
   "execution_count": 44,
   "metadata": {},
   "outputs": [],
   "source": [
    "import pandas as pd\n",
    "import numpy as np\n",
    "import matplotlib.pyplot as plt"
   ]
  },
  {
   "cell_type": "code",
   "execution_count": 45,
   "metadata": {},
   "outputs": [],
   "source": [
    "data = pd.read_csv('AAPL_new.csv', index_col='Date', parse_dates=True)"
   ]
  },
  {
   "cell_type": "code",
   "execution_count": 46,
   "metadata": {},
   "outputs": [],
   "source": [
    "data['Avg Price'] = (data['Open'] + data['Close']) / 2"
   ]
  },
  {
   "cell_type": "code",
   "execution_count": 47,
   "metadata": {},
   "outputs": [],
   "source": [
    "def moving_average(data, window_size):\n",
    "    return data['Avg Price'].rolling(window_size).mean()\n",
    "\n",
    "data['10 Day MA'] = moving_average(data, 10)\n",
    "data['30 Day MA'] = moving_average(data, 30)"
   ]
  },
  {
   "cell_type": "code",
   "execution_count": 48,
   "metadata": {},
   "outputs": [],
   "source": [
    "buy_price = []\n",
    "sell_price = []\n",
    "holding = False\n",
    "\n",
    "for i in range(1,len(data)):\n",
    "    if (data['10 Day MA'][i] > data['30 Day MA'][i] and data['10 Day MA'][i-1] < data['30 Day MA'][i-1]) and not holding:\n",
    "        buy_price.append(data['Avg Price'][i])\n",
    "        holding = True\n",
    "    elif (data['10 Day MA'][i] < data['30 Day MA'][i] and data['10 Day MA'][i-1] > data['30 Day MA'][i-1]) and holding:\n",
    "        sell_price.append(data['Avg Price'][i])\n",
    "        holding = False\n",
    "if(holding):\n",
    "    sell_price.append(data['Avg Price'][-1])"
   ]
  },
  {
   "cell_type": "code",
   "execution_count": 43,
   "metadata": {},
   "outputs": [
    {
     "name": "stdout",
     "output_type": "stream",
     "text": [
      "[29.624285999999998, 35.907858000000004, 37.352142, 38.070715, 45.153572, 50.1735705, 50.054285, 54.964285000000004, 60.273571000000004, 55.964284500000005, 82.0721435, 82.688957, 66.183285, 65.479286, 61.405714, 69.037857, 75.9935725, 83.332859, 98.8200035, 105.2000005, 117.610001, 126.5950015, 130.730003, 125.6800005, 116.33000200000001, 117.88999949999999, 118.04499799999999]\n",
      "[36.38143, 37.190714, 35.8621425, 44.2164285, 47.9699995, 48.212143, 54.427143, 53.254999, 54.545, 80.2278555, 95.5750005, 75.344349, 60.954285, 62.3999995, 65.079998, 77.30499649999999, 74.199287, 96.704998, 99.884998, 109.4624975, 126.4700015, 125.73249799999999, 126.509998, 122.3450015, 110.9699975, 118.5099985, 117.16]\n"
     ]
    }
   ],
   "source": [
    "print(buy_price)\n",
    "print(sell_price)"
   ]
  },
  {
   "cell_type": "code",
   "execution_count": 49,
   "metadata": {},
   "outputs": [
    {
     "name": "stdout",
     "output_type": "stream",
     "text": [
      "56.26350649999995\n"
     ]
    }
   ],
   "source": [
    "profit = 0.0\n",
    "for i in range(len(buy_price)):\n",
    "    profit += sell_price[i] - buy_price[i]\n",
    "print(profit)"
   ]
  }
 ],
 "metadata": {
  "interpreter": {
   "hash": "72d9c9ce878c6d6b0806bcae9aa3ed6a4baeb094580baa72e7796dfff5d81d40"
  },
  "kernelspec": {
   "display_name": "Python 3.8.7 64-bit",
   "language": "python",
   "name": "python3"
  },
  "language_info": {
   "codemirror_mode": {
    "name": "ipython",
    "version": 3
   },
   "file_extension": ".py",
   "mimetype": "text/x-python",
   "name": "python",
   "nbconvert_exporter": "python",
   "pygments_lexer": "ipython3",
   "version": "3.8.8"
  },
  "orig_nbformat": 4
 },
 "nbformat": 4,
 "nbformat_minor": 2
}
